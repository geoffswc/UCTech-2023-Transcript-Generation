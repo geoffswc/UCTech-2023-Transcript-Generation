{
 "cells": [
  {
   "cell_type": "code",
   "execution_count": 1,
   "id": "255ad996",
   "metadata": {},
   "outputs": [],
   "source": [
    "#!pip install scikit-plot"
   ]
  },
  {
   "cell_type": "code",
   "execution_count": 2,
   "id": "dbc1347b",
   "metadata": {},
   "outputs": [],
   "source": [
    "import pandas as pd\n",
    "from pandasql import sqldf\n",
    "from sklearn.model_selection import train_test_split\n",
    "from sklearn.pipeline import Pipeline\n",
    "from sklearn.feature_extraction.text import TfidfTransformer\n",
    "from sklearn.feature_extraction.text import CountVectorizer\n",
    "from sklearn.ensemble import RandomForestClassifier\n",
    "from sklearn.metrics import precision_recall_fscore_support\n",
    "from sklearn.metrics import precision_recall_curve\n",
    "from sklearn.model_selection import cross_val_score\n",
    "import nltk\n",
    "from nltk.corpus import stopwords\n",
    "import sklearn.metrics as metrics\n",
    "import scikitplot as skplt\n",
    "import matplotlib.pyplot as plt\n",
    "from sklearn.metrics import PrecisionRecallDisplay"
   ]
  },
  {
   "cell_type": "code",
   "execution_count": 3,
   "id": "7e35b14a",
   "metadata": {},
   "outputs": [],
   "source": [
    "stop = stopwords.words('english')"
   ]
  },
  {
   "cell_type": "code",
   "execution_count": 4,
   "id": "70874023",
   "metadata": {},
   "outputs": [],
   "source": [
    "pd.set_option('display.max_colwidth', 70)\n",
    "pd.set_option('display.max_rows', None)"
   ]
  },
  {
   "cell_type": "code",
   "execution_count": 5,
   "id": "feef5430",
   "metadata": {},
   "outputs": [],
   "source": [
    "pysqldf = lambda q: sqldf(q, globals())"
   ]
  },
  {
   "cell_type": "code",
   "execution_count": 6,
   "id": "09412d3f",
   "metadata": {},
   "outputs": [],
   "source": [
    "# setting a couple of workbook variables\n",
    "text_source = \"transcript\"\n",
    "tag = \"tobacco\""
   ]
  },
  {
   "cell_type": "code",
   "execution_count": 7,
   "id": "b94d4410",
   "metadata": {},
   "outputs": [],
   "source": [
    "df_human = pd.read_csv(\"data/classifications.csv\")\n",
    "df_ml = pd.read_csv(\"data/transcript_accuracy.csv\")"
   ]
  },
  {
   "cell_type": "code",
   "execution_count": 8,
   "id": "ec292e62",
   "metadata": {},
   "outputs": [],
   "source": [
    "#df_ml.head()"
   ]
  },
  {
   "cell_type": "code",
   "execution_count": 9,
   "id": "c7273a30",
   "metadata": {},
   "outputs": [],
   "source": [
    "#df_human.head(1)"
   ]
  },
  {
   "cell_type": "code",
   "execution_count": 10,
   "id": "fb62c8fa",
   "metadata": {},
   "outputs": [],
   "source": [
    "df_dataset = pysqldf(f\"\"\"\n",
    "SELECT dh.*, dml.{text_source}, dml.`avg(confidence)` as avg_confidence\n",
    "FROM \n",
    "    df_human dh\n",
    "JOIN\n",
    "    df_ml dml\n",
    "ON dh.ID = dml.id\n",
    "    WHERE description is not NULL\n",
    "    AND description != 'error code 224003'\n",
    "    AND subject NOT LIKE '%href%'\n",
    "\"\"\")"
   ]
  },
  {
   "cell_type": "code",
   "execution_count": 11,
   "id": "f756ab52",
   "metadata": {},
   "outputs": [
    {
     "data": {
      "text/plain": [
       "322"
      ]
     },
     "execution_count": 11,
     "metadata": {},
     "output_type": "execute_result"
    }
   ],
   "source": [
    "len(df_dataset)"
   ]
  },
  {
   "cell_type": "code",
   "execution_count": 12,
   "id": "e6edf6a7",
   "metadata": {},
   "outputs": [],
   "source": [
    "#df_dataset.head(2)"
   ]
  },
  {
   "cell_type": "code",
   "execution_count": 13,
   "id": "99280276",
   "metadata": {},
   "outputs": [],
   "source": [
    "#df_dataset.set_index(\"ID\", inplace=True)"
   ]
  },
  {
   "cell_type": "code",
   "execution_count": 14,
   "id": "1076890e",
   "metadata": {},
   "outputs": [],
   "source": [
    "df = pysqldf(f\"\"\"\n",
    "SELECT \n",
    "    ID,\n",
    "    subject,  \n",
    "    {text_source},\n",
    "    avg_confidence,\n",
    "    CASE\n",
    "        WHEN subject LIKE '%{tag}%' THEN 1\n",
    "        ELSE 0\n",
    "    END AS category\n",
    "FROM df_dataset\n",
    "\"\"\")"
   ]
  },
  {
   "cell_type": "code",
   "execution_count": 15,
   "id": "9416f23d",
   "metadata": {},
   "outputs": [],
   "source": [
    "df.set_index(\"ID\", inplace=True)"
   ]
  },
  {
   "cell_type": "code",
   "execution_count": 16,
   "id": "2acf6ba7",
   "metadata": {},
   "outputs": [
    {
     "data": {
      "text/plain": [
       "322"
      ]
     },
     "execution_count": 16,
     "metadata": {},
     "output_type": "execute_result"
    }
   ],
   "source": [
    "len(df)"
   ]
  },
  {
   "cell_type": "code",
   "execution_count": 17,
   "id": "01da8fb7",
   "metadata": {},
   "outputs": [],
   "source": [
    "df_train, df_test = train_test_split(df, test_size=0.5)"
   ]
  },
  {
   "cell_type": "code",
   "execution_count": 18,
   "id": "4f873bc5",
   "metadata": {},
   "outputs": [],
   "source": [
    "text_clf = Pipeline([\n",
    "    ('vect', CountVectorizer(stop_words=stop)),\n",
    "    ('clf', RandomForestClassifier())\n",
    "    ])"
   ]
  },
  {
   "cell_type": "code",
   "execution_count": 19,
   "id": "b40726b6",
   "metadata": {},
   "outputs": [],
   "source": [
    "X_train = text_clf['vect'].fit_transform(df_train[text_source])"
   ]
  },
  {
   "cell_type": "code",
   "execution_count": 20,
   "id": "e206b04a",
   "metadata": {},
   "outputs": [],
   "source": [
    "pd.set_option('display.max_rows', None)\n",
    "#df_vector.T"
   ]
  },
  {
   "cell_type": "code",
   "execution_count": 21,
   "id": "6b660a71",
   "metadata": {},
   "outputs": [],
   "source": [
    "#df_train.iloc[0][text_source]"
   ]
  },
  {
   "cell_type": "code",
   "execution_count": 22,
   "id": "cddf5e7e",
   "metadata": {},
   "outputs": [],
   "source": [
    "X_train = text_clf.fit(df_train[text_source], df_train['category'])"
   ]
  },
  {
   "cell_type": "code",
   "execution_count": 23,
   "id": "cac91bc6",
   "metadata": {},
   "outputs": [],
   "source": [
    "feature_df = pd.DataFrame({\"feature\": text_clf['vect'].get_feature_names_out(), \n",
    "                           'importance': text_clf['clf'].feature_importances_})"
   ]
  },
  {
   "cell_type": "code",
   "execution_count": 24,
   "id": "12fde109",
   "metadata": {},
   "outputs": [],
   "source": [
    "y_proba = text_clf.predict_proba(df_test[text_source])\n",
    "y_true = df_test['category']"
   ]
  },
  {
   "cell_type": "code",
   "execution_count": 25,
   "id": "3267cd96",
   "metadata": {},
   "outputs": [],
   "source": [
    "y_pred = [y_proba[i][1] for i in range(len(y_proba))]"
   ]
  },
  {
   "cell_type": "code",
   "execution_count": 26,
   "id": "33888af0",
   "metadata": {},
   "outputs": [],
   "source": [
    "#y_pred"
   ]
  },
  {
   "cell_type": "code",
   "execution_count": 27,
   "id": "c95f5411",
   "metadata": {},
   "outputs": [],
   "source": [
    "import numpy as np\n",
    "from sklearn.metrics import precision_recall_curve\n",
    "precision, recall, thresholds = precision_recall_curve(y_true, y_pred)\n",
    "precision = list(precision)\n",
    "recall = list(recall)\n",
    "thresholds = list(thresholds) + [1]"
   ]
  },
  {
   "cell_type": "code",
   "execution_count": 28,
   "id": "4dc8f700",
   "metadata": {},
   "outputs": [
    {
     "data": {
      "text/plain": [
       "[0.18,\n",
       " 0.24,\n",
       " 0.25,\n",
       " 0.56,\n",
       " 0.62,\n",
       " 0.64,\n",
       " 0.67,\n",
       " 0.68,\n",
       " 0.75,\n",
       " 0.76,\n",
       " 0.8,\n",
       " 0.81,\n",
       " 0.82,\n",
       " 0.83,\n",
       " 0.84,\n",
       " 0.85,\n",
       " 0.86,\n",
       " 0.88,\n",
       " 0.89,\n",
       " 0.9,\n",
       " 0.91,\n",
       " 0.92,\n",
       " 0.93,\n",
       " 0.94,\n",
       " 0.95,\n",
       " 0.96,\n",
       " 0.97,\n",
       " 0.98,\n",
       " 0.99,\n",
       " 1.0,\n",
       " 1]"
      ]
     },
     "execution_count": 28,
     "metadata": {},
     "output_type": "execute_result"
    }
   ],
   "source": [
    "thresholds"
   ]
  },
  {
   "cell_type": "code",
   "execution_count": 29,
   "id": "a4a15661",
   "metadata": {},
   "outputs": [
    {
     "data": {
      "text/plain": [
       "[0.9192546583850931,\n",
       " 0.925,\n",
       " 0.9308176100628931,\n",
       " 0.9367088607594937,\n",
       " 0.9426751592356688,\n",
       " 0.9423076923076923,\n",
       " 0.9483870967741935,\n",
       " 0.9545454545454546,\n",
       " 0.9607843137254902,\n",
       " 0.9605263157894737,\n",
       " 0.9602649006622517,\n",
       " 0.96,\n",
       " 0.959731543624161,\n",
       " 0.9594594594594594,\n",
       " 0.9657534246575342,\n",
       " 0.9647887323943662,\n",
       " 0.9645390070921985,\n",
       " 0.9626865671641791,\n",
       " 0.9612403100775194,\n",
       " 0.96,\n",
       " 0.9646017699115044,\n",
       " 0.9636363636363636,\n",
       " 0.9607843137254902,\n",
       " 0.9666666666666667,\n",
       " 0.9571428571428572,\n",
       " 0.9795918367346939,\n",
       " 0.9736842105263158,\n",
       " 1.0,\n",
       " 1.0,\n",
       " 1.0,\n",
       " 1.0]"
      ]
     },
     "execution_count": 29,
     "metadata": {},
     "output_type": "execute_result"
    }
   ],
   "source": [
    "precision"
   ]
  },
  {
   "cell_type": "code",
   "execution_count": 30,
   "id": "a0267156",
   "metadata": {},
   "outputs": [
    {
     "data": {
      "text/plain": [
       "[1.0,\n",
       " 1.0,\n",
       " 1.0,\n",
       " 1.0,\n",
       " 1.0,\n",
       " 0.9932432432432432,\n",
       " 0.9932432432432432,\n",
       " 0.9932432432432432,\n",
       " 0.9932432432432432,\n",
       " 0.9864864864864865,\n",
       " 0.9797297297297297,\n",
       " 0.972972972972973,\n",
       " 0.9662162162162162,\n",
       " 0.9594594594594594,\n",
       " 0.9527027027027027,\n",
       " 0.9256756756756757,\n",
       " 0.918918918918919,\n",
       " 0.8716216216216216,\n",
       " 0.8378378378378378,\n",
       " 0.8108108108108109,\n",
       " 0.7364864864864865,\n",
       " 0.7162162162162162,\n",
       " 0.6621621621621622,\n",
       " 0.5878378378378378,\n",
       " 0.4527027027027027,\n",
       " 0.32432432432432434,\n",
       " 0.25,\n",
       " 0.1891891891891892,\n",
       " 0.0472972972972973,\n",
       " 0.013513513513513514,\n",
       " 0.0]"
      ]
     },
     "execution_count": 30,
     "metadata": {},
     "output_type": "execute_result"
    }
   ],
   "source": [
    "recall"
   ]
  },
  {
   "cell_type": "code",
   "execution_count": 31,
   "id": "e20243c0",
   "metadata": {},
   "outputs": [
    {
     "data": {
      "image/png": "[encoded data removed]",
      "text/plain": [
       "<Figure size 640x480 with 1 Axes>"
      ]
     },
     "metadata": {},
     "output_type": "display_data"
    }
   ],
   "source": [
    "disp = PrecisionRecallDisplay(precision=precision, recall=recall)\n",
    "disp.plot()\n",
    "plt.show()"
   ]
  },
  {
   "cell_type": "markdown",
   "id": "0e3d8386",
   "metadata": {},
   "source": [
    "If we decrease the false negative (select more positives), recall always increases, but precision may increase or decrease. Generally, for models better than random, precision and recall have an inverse relationship (@pythinker's answer), but for models worse than random, they have a direct relationship (@kbrose's example).\n",
    "\n",
    "https://datascience.stackexchange.com/questions/49117/inverse-relationship-between-precision-and-recall"
   ]
  },
  {
   "cell_type": "code",
   "execution_count": 32,
   "id": "31bde19d",
   "metadata": {},
   "outputs": [
    {
     "data": {
      "image/png": "[encoded data removed]",
      "text/plain": [
       "<Figure size 640x480 with 1 Axes>"
      ]
     },
     "metadata": {},
     "output_type": "display_data"
    }
   ],
   "source": [
    "import matplotlib.pyplot as plt\n",
    "import numpy as np\n",
    "\n",
    "xticks = thresholds\n",
    "plt.plot(thresholds, list(recall), label=\"Recall\")\n",
    "plt.plot(thresholds, list(precision), label=\"Precision\")\n",
    "leg = plt.legend()\n",
    "plt.show()"
   ]
  },
  {
   "cell_type": "code",
   "execution_count": 33,
   "id": "183ebc76",
   "metadata": {},
   "outputs": [],
   "source": [
    "df = pd.DataFrame({'threshold':thresholds, 'precision':precision, 'recall':recall})"
   ]
  },
  {
   "cell_type": "code",
   "execution_count": 34,
   "id": "f9d8bd9d",
   "metadata": {},
   "outputs": [
    {
     "data": {
      "text/html": [
       "<div>\n",
       "<style scoped>\n",
       "    .dataframe tbody tr th:only-of-type {\n",
       "        vertical-align: middle;\n",
       "    }\n",
       "\n",
       "    .dataframe tbody tr th {\n",
       "        vertical-align: top;\n",
       "    }\n",
       "\n",
       "    .dataframe thead th {\n",
       "        text-align: right;\n",
       "    }\n",
       "</style>\n",
       "<table border=\"1\" class=\"dataframe\">\n",
       "  <thead>\n",
       "    <tr style=\"text-align: right;\">\n",
       "      <th></th>\n",
       "      <th>threshold</th>\n",
       "      <th>precision</th>\n",
       "      <th>recall</th>\n",
       "    </tr>\n",
       "  </thead>\n",
       "  <tbody>\n",
       "    <tr>\n",
       "      <th>0</th>\n",
       "      <td>0.18</td>\n",
       "      <td>0.919255</td>\n",
       "      <td>1.000000</td>\n",
       "    </tr>\n",
       "    <tr>\n",
       "      <th>1</th>\n",
       "      <td>0.24</td>\n",
       "      <td>0.925000</td>\n",
       "      <td>1.000000</td>\n",
       "    </tr>\n",
       "    <tr>\n",
       "      <th>2</th>\n",
       "      <td>0.25</td>\n",
       "      <td>0.930818</td>\n",
       "      <td>1.000000</td>\n",
       "    </tr>\n",
       "    <tr>\n",
       "      <th>3</th>\n",
       "      <td>0.56</td>\n",
       "      <td>0.936709</td>\n",
       "      <td>1.000000</td>\n",
       "    </tr>\n",
       "    <tr>\n",
       "      <th>4</th>\n",
       "      <td>0.62</td>\n",
       "      <td>0.942675</td>\n",
       "      <td>1.000000</td>\n",
       "    </tr>\n",
       "    <tr>\n",
       "      <th>5</th>\n",
       "      <td>0.64</td>\n",
       "      <td>0.942308</td>\n",
       "      <td>0.993243</td>\n",
       "    </tr>\n",
       "    <tr>\n",
       "      <th>6</th>\n",
       "      <td>0.67</td>\n",
       "      <td>0.948387</td>\n",
       "      <td>0.993243</td>\n",
       "    </tr>\n",
       "    <tr>\n",
       "      <th>7</th>\n",
       "      <td>0.68</td>\n",
       "      <td>0.954545</td>\n",
       "      <td>0.993243</td>\n",
       "    </tr>\n",
       "    <tr>\n",
       "      <th>8</th>\n",
       "      <td>0.75</td>\n",
       "      <td>0.960784</td>\n",
       "      <td>0.993243</td>\n",
       "    </tr>\n",
       "    <tr>\n",
       "      <th>9</th>\n",
       "      <td>0.76</td>\n",
       "      <td>0.960526</td>\n",
       "      <td>0.986486</td>\n",
       "    </tr>\n",
       "    <tr>\n",
       "      <th>10</th>\n",
       "      <td>0.80</td>\n",
       "      <td>0.960265</td>\n",
       "      <td>0.979730</td>\n",
       "    </tr>\n",
       "    <tr>\n",
       "      <th>11</th>\n",
       "      <td>0.81</td>\n",
       "      <td>0.960000</td>\n",
       "      <td>0.972973</td>\n",
       "    </tr>\n",
       "    <tr>\n",
       "      <th>12</th>\n",
       "      <td>0.82</td>\n",
       "      <td>0.959732</td>\n",
       "      <td>0.966216</td>\n",
       "    </tr>\n",
       "    <tr>\n",
       "      <th>13</th>\n",
       "      <td>0.83</td>\n",
       "      <td>0.959459</td>\n",
       "      <td>0.959459</td>\n",
       "    </tr>\n",
       "    <tr>\n",
       "      <th>14</th>\n",
       "      <td>0.84</td>\n",
       "      <td>0.965753</td>\n",
       "      <td>0.952703</td>\n",
       "    </tr>\n",
       "    <tr>\n",
       "      <th>15</th>\n",
       "      <td>0.85</td>\n",
       "      <td>0.964789</td>\n",
       "      <td>0.925676</td>\n",
       "    </tr>\n",
       "    <tr>\n",
       "      <th>16</th>\n",
       "      <td>0.86</td>\n",
       "      <td>0.964539</td>\n",
       "      <td>0.918919</td>\n",
       "    </tr>\n",
       "    <tr>\n",
       "      <th>17</th>\n",
       "      <td>0.88</td>\n",
       "      <td>0.962687</td>\n",
       "      <td>0.871622</td>\n",
       "    </tr>\n",
       "    <tr>\n",
       "      <th>18</th>\n",
       "      <td>0.89</td>\n",
       "      <td>0.961240</td>\n",
       "      <td>0.837838</td>\n",
       "    </tr>\n",
       "    <tr>\n",
       "      <th>19</th>\n",
       "      <td>0.90</td>\n",
       "      <td>0.960000</td>\n",
       "      <td>0.810811</td>\n",
       "    </tr>\n",
       "    <tr>\n",
       "      <th>20</th>\n",
       "      <td>0.91</td>\n",
       "      <td>0.964602</td>\n",
       "      <td>0.736486</td>\n",
       "    </tr>\n",
       "    <tr>\n",
       "      <th>21</th>\n",
       "      <td>0.92</td>\n",
       "      <td>0.963636</td>\n",
       "      <td>0.716216</td>\n",
       "    </tr>\n",
       "    <tr>\n",
       "      <th>22</th>\n",
       "      <td>0.93</td>\n",
       "      <td>0.960784</td>\n",
       "      <td>0.662162</td>\n",
       "    </tr>\n",
       "    <tr>\n",
       "      <th>23</th>\n",
       "      <td>0.94</td>\n",
       "      <td>0.966667</td>\n",
       "      <td>0.587838</td>\n",
       "    </tr>\n",
       "    <tr>\n",
       "      <th>24</th>\n",
       "      <td>0.95</td>\n",
       "      <td>0.957143</td>\n",
       "      <td>0.452703</td>\n",
       "    </tr>\n",
       "    <tr>\n",
       "      <th>25</th>\n",
       "      <td>0.96</td>\n",
       "      <td>0.979592</td>\n",
       "      <td>0.324324</td>\n",
       "    </tr>\n",
       "    <tr>\n",
       "      <th>26</th>\n",
       "      <td>0.97</td>\n",
       "      <td>0.973684</td>\n",
       "      <td>0.250000</td>\n",
       "    </tr>\n",
       "    <tr>\n",
       "      <th>27</th>\n",
       "      <td>0.98</td>\n",
       "      <td>1.000000</td>\n",
       "      <td>0.189189</td>\n",
       "    </tr>\n",
       "    <tr>\n",
       "      <th>28</th>\n",
       "      <td>0.99</td>\n",
       "      <td>1.000000</td>\n",
       "      <td>0.047297</td>\n",
       "    </tr>\n",
       "    <tr>\n",
       "      <th>29</th>\n",
       "      <td>1.00</td>\n",
       "      <td>1.000000</td>\n",
       "      <td>0.013514</td>\n",
       "    </tr>\n",
       "    <tr>\n",
       "      <th>30</th>\n",
       "      <td>1.00</td>\n",
       "      <td>1.000000</td>\n",
       "      <td>0.000000</td>\n",
       "    </tr>\n",
       "  </tbody>\n",
       "</table>\n",
       "</div>"
      ],
      "text/plain": [
       "    threshold  precision    recall\n",
       "0        0.18   0.919255  1.000000\n",
       "1        0.24   0.925000  1.000000\n",
       "2        0.25   0.930818  1.000000\n",
       "3        0.56   0.936709  1.000000\n",
       "4        0.62   0.942675  1.000000\n",
       "5        0.64   0.942308  0.993243\n",
       "6        0.67   0.948387  0.993243\n",
       "7        0.68   0.954545  0.993243\n",
       "8        0.75   0.960784  0.993243\n",
       "9        0.76   0.960526  0.986486\n",
       "10       0.80   0.960265  0.979730\n",
       "11       0.81   0.960000  0.972973\n",
       "12       0.82   0.959732  0.966216\n",
       "13       0.83   0.959459  0.959459\n",
       "14       0.84   0.965753  0.952703\n",
       "15       0.85   0.964789  0.925676\n",
       "16       0.86   0.964539  0.918919\n",
       "17       0.88   0.962687  0.871622\n",
       "18       0.89   0.961240  0.837838\n",
       "19       0.90   0.960000  0.810811\n",
       "20       0.91   0.964602  0.736486\n",
       "21       0.92   0.963636  0.716216\n",
       "22       0.93   0.960784  0.662162\n",
       "23       0.94   0.966667  0.587838\n",
       "24       0.95   0.957143  0.452703\n",
       "25       0.96   0.979592  0.324324\n",
       "26       0.97   0.973684  0.250000\n",
       "27       0.98   1.000000  0.189189\n",
       "28       0.99   1.000000  0.047297\n",
       "29       1.00   1.000000  0.013514\n",
       "30       1.00   1.000000  0.000000"
      ]
     },
     "execution_count": 34,
     "metadata": {},
     "output_type": "execute_result"
    }
   ],
   "source": [
    "df"
   ]
  },
  {
   "cell_type": "code",
   "execution_count": null,
   "id": "a46bca39",
   "metadata": {},
   "outputs": [],
   "source": []
  }
 ],
 "metadata": {
  "kernelspec": {
   "display_name": "Python 3 (ipykernel)",
   "language": "python",
   "name": "python3"
  },
  "language_info": {
   "codemirror_mode": {
    "name": "ipython",
    "version": 3
   },
   "file_extension": ".py",
   "mimetype": "text/x-python",
   "name": "python",
   "nbconvert_exporter": "python",
   "pygments_lexer": "ipython3",
   "version": "3.10.9"
  }
 },
 "nbformat": 4,
 "nbformat_minor": 5
}
