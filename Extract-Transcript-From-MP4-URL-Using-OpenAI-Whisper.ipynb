{
 "cells": [
  {
   "cell_type": "markdown",
   "id": "b06788fd",
   "metadata": {},
   "source": [
    "This workbook demonstrates the process for downloading an mp4 file from a public URL and extracting the transcript using OpenAI Whisper.\n",
    "\n",
    "Note that if you already have the mp4 as a local file, you can use whisper directly on that file without the additional step of downloading it from a URI. I included this because it tends to be part of the workflow for generating transcripts from videos stored in the Industry Archives/\n",
    "\n",
    "One additional note - whisper will work directly on an mp4, so you don't need to extract a .flac or other audio"
   ]
  },
  {
   "cell_type": "code",
   "execution_count": 1,
   "id": "a49b9c32",
   "metadata": {},
   "outputs": [],
   "source": [
    "# I found it easiest to install whisper directly from the git repo"
   ]
  },
  {
   "cell_type": "code",
   "execution_count": 2,
   "id": "997ed942",
   "metadata": {},
   "outputs": [],
   "source": [
    "# !pip install git+https://github.com/openai/whisper.git "
   ]
  },
  {
   "cell_type": "code",
   "execution_count": 3,
   "id": "5589f4a0",
   "metadata": {},
   "outputs": [],
   "source": [
    "# I got an install error when I first tried to import whisper. This was due to some dependencies.\n",
    "# Error was resolved following instructions at: https://github.com/Homebrew/homebrew-core/issues/153177"
   ]
  },
  {
   "cell_type": "code",
   "execution_count": 4,
   "id": "fe3ef4a0",
   "metadata": {},
   "outputs": [],
   "source": [
    "import whisper\n",
    "import urllib.request\n",
    "import os"
   ]
  },
  {
   "cell_type": "code",
   "execution_count": 5,
   "id": "efc394f3",
   "metadata": {},
   "outputs": [
    {
     "name": "stdout",
     "output_type": "stream",
     "text": [
      "downloading file\n"
     ]
    },
    {
     "data": {
      "text/plain": [
       "('tobacco_wbr62a00.mp4', <http.client.HTTPMessage at 0x7faa13b2fd00>)"
      ]
     },
     "execution_count": 5,
     "metadata": {},
     "output_type": "execute_result"
    }
   ],
   "source": [
    "# selecting a URL for an industry produced anti-smoking ad from the 1990s.\n",
    "# about 4 minutes long.\n",
    "\n",
    "url = \"https://archive.org/download/tobacco_wbr62a00/tobacco_wbr62a00.mp4\"\n",
    "source_file = url.split('/')[-1]\n",
    "print(\"downloading file\")\n",
    "urllib.request.urlretrieve(url, source_file)"
   ]
  },
  {
   "cell_type": "code",
   "execution_count": 6,
   "id": "06750734",
   "metadata": {},
   "outputs": [],
   "source": [
    "model = whisper.load_model(\"base\")"
   ]
  },
  {
   "cell_type": "code",
   "execution_count": 7,
   "id": "f037eb26",
   "metadata": {},
   "outputs": [
    {
     "name": "stderr",
     "output_type": "stream",
     "text": [
      "/Users/boushey/opt/anaconda3/lib/python3.9/site-packages/whisper/transcribe.py:115: UserWarning: FP16 is not supported on CPU; using FP32 instead\n",
      "  warnings.warn(\"FP16 is not supported on CPU; using FP32 instead\")\n"
     ]
    }
   ],
   "source": [
    "result = model.transcribe(source_file)"
   ]
  },
  {
   "cell_type": "code",
   "execution_count": 8,
   "id": "a29ef132",
   "metadata": {},
   "outputs": [
    {
     "data": {
      "text/plain": [
       "\" I'm not going to be a good guy. I'm not going to be a good guy. I'm not going to be a good guy. I'm not going to be a good guy. I'm not going to be a good guy. I'm not going to be a good guy. I'm not going to be a good guy. I'm not going to be a good guy. I'm not going to be a good guy. I'm not going to be a good guy. I'm not going to be a good guy. I'm not going to be a good guy. I'm not going to be a good guy. I'm not going to be a good guy. Think smoking makes you look cool. No way. What are you looking at? Hey, Christie! Think smoking makes you look cool. No way. What? Keep on winning Guys. Keep on winning Guys. Keep on winning Guys. Keep on winning Guys. Keep on winning Guys. Keep on winning! Keep on winning. Keep on winning. Like smoking. We all know the reason he's not to. But out here comes up. That's when we meet the real decision. And for us, it's not for a mom. And that's not even the hardest decision I've ever made. I mean, you know? So how about a little kind of purchase? My parents. They always think I'm not listening. I hear them. Wait a minute. You know, every day you have to deal with stuff on your own. So you want to know why I've decided not to smoke? Which reason would you like? I don't think to smoke to prove myself. My coolness is not on trail here. I don't smoke because sometimes it's what you don't do. That makes you who you are. These are the kids that I hang out with. They're all cool in different ways, but we're a lot of light, too. Because you know, we all deal the same stuff, same decisions, like smoking. Forget it. We all keep up with the same answer. Not for us. We don't have to smoke to be different. Being ourselves is enough. Hey guys, can I ask you a couple of questions? Have you ever tried cigarettes? Nope. What about this? I don't know. I just never wanted to. Really? Yeah, I mean, some of my friends shot at it or whatever. Somebody had a pack at the school, you know, they're smoking on whatever. And do you think they tried to get other people doing it? Yeah, yeah. But that's dumb though. You see what I'm saying? I mean, the reason I did stuff, not they're not dumb, but... That's the stupid reason to do anything. I think. I think. Take it easy. Hey you. Me? Yeah. Did you ever try cigarettes? Almost 14. Any reason? I guess I was trying to be cool or something. Really? Well, yeah. So you tried it because other people were doing it? Yeah, I guess. And why don't you do it anymore? A lot of reasons. I just didn't like it, you know? I don't need to smoke like fit in. Hold up. We finished?\""
      ]
     },
     "execution_count": 8,
     "metadata": {},
     "output_type": "execute_result"
    }
   ],
   "source": [
    "result['text']"
   ]
  },
  {
   "cell_type": "code",
   "execution_count": null,
   "id": "dbb4cb2b",
   "metadata": {},
   "outputs": [],
   "source": []
  }
 ],
 "metadata": {
  "kernelspec": {
   "display_name": "Python 3 (ipykernel)",
   "language": "python",
   "name": "python3"
  },
  "language_info": {
   "codemirror_mode": {
    "name": "ipython",
    "version": 3
   },
   "file_extension": ".py",
   "mimetype": "text/x-python",
   "name": "python",
   "nbconvert_exporter": "python",
   "pygments_lexer": "ipython3",
   "version": "3.9.7"
  }
 },
 "nbformat": 4,
 "nbformat_minor": 5
}
