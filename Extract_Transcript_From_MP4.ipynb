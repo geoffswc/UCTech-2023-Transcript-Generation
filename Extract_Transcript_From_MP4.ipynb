{
 "cells": [
  {
   "cell_type": "code",
   "execution_count": 1,
   "metadata": {},
   "outputs": [],
   "source": [
    "# note - you will need to be able to run the UNIX ffmpeg utility to run this notebook"
   ]
  },
  {
   "cell_type": "code",
   "execution_count": 2,
   "metadata": {},
   "outputs": [],
   "source": [
    "# pip install google-cloud-storage\n",
    "#!pip install google-cloud-language\n",
    "#!pip install google-cloud-speech"
   ]
  },
  {
   "cell_type": "code",
   "execution_count": 34,
   "metadata": {},
   "outputs": [],
   "source": [
    "import urllib.request\n",
    "import os\n",
    "import glob\n",
    "from google.cloud import storage\n",
    "from google.cloud import speech\n",
    "from google.cloud import language_v1\n",
    "from google.protobuf.json_format import MessageToDict\n",
    "import yaml\n",
    "import json\n",
    "import time\n",
    "import pandas as pd"
   ]
  },
  {
   "cell_type": "code",
   "execution_count": 37,
   "metadata": {},
   "outputs": [],
   "source": [
    "pd.set_option('display.max_colwidth', None)"
   ]
  },
  {
   "cell_type": "code",
   "execution_count": 4,
   "metadata": {},
   "outputs": [],
   "source": [
    "with open('properties.yaml') as file:\n",
    "    properties = yaml.full_load(file)\n",
    "\n",
    "os.environ[\"GOOGLE_APPLICATION_CREDENTIALS\"] = properties['google_application_credentials']"
   ]
  },
  {
   "cell_type": "code",
   "execution_count": 5,
   "metadata": {},
   "outputs": [],
   "source": [
    "bucket_name = properties['bucket_name']\n",
    "storage_client = storage.Client()\n",
    "bucket = storage_client.bucket(bucket_name)"
   ]
  },
  {
   "cell_type": "code",
   "execution_count": 6,
   "metadata": {},
   "outputs": [],
   "source": [
    "url = \"https://ia800304.us.archive.org/27/items/tobacco_pcy99d00/87784869_512kb.mp4\""
   ]
  },
  {
   "cell_type": "code",
   "execution_count": 7,
   "metadata": {},
   "outputs": [],
   "source": [
    "source_file_name = url.split('/')[-1]\n",
    "source_file_stem = source_file_name.split('.')[0]"
   ]
  },
  {
   "cell_type": "code",
   "execution_count": 8,
   "metadata": {},
   "outputs": [
    {
     "name": "stdout",
     "output_type": "stream",
     "text": [
      "downloading file\n",
      "run time: 8.883095979690552\n"
     ]
    }
   ],
   "source": [
    "start_time = time.time()    \n",
    "print(\"downloading file\")\n",
    "urllib.request.urlretrieve(url, 'video_files/' + source_file_name)\n",
    "print(\"run time:\", time.time() - start_time)"
   ]
  },
  {
   "cell_type": "code",
   "execution_count": 9,
   "metadata": {},
   "outputs": [],
   "source": [
    "#start_time = time.time()\n",
    "#blob = bucket.blob(\"video_files/\" + source_file_name)\n",
    "#blob.upload_from_filename('video_files/' + source_file_name)"
   ]
  },
  {
   "cell_type": "code",
   "execution_count": 10,
   "metadata": {},
   "outputs": [
    {
     "name": "stdout",
     "output_type": "stream",
     "text": [
      "converting to flac\n",
      "run time: 8.967916011810303\n"
     ]
    },
    {
     "name": "stderr",
     "output_type": "stream",
     "text": [
      "File 'flac_files/87784869_512kb.flac' already exists. Overwrite? [y/N] "
     ]
    }
   ],
   "source": [
    "# convert locally to flac format\n",
    "print(\"converting to flac\")\n",
    "os.system('ffmpeg -v quiet -i video_files/' + source_file_name  + ' -c:a flac flac_files/' + source_file_stem + '.flac')\n",
    "print(\"run time:\", time.time() - start_time)\n",
    "start_time = time.time()    "
   ]
  },
  {
   "cell_type": "code",
   "execution_count": 11,
   "metadata": {},
   "outputs": [
    {
     "name": "stdout",
     "output_type": "stream",
     "text": [
      "uploading flac file to cloud\n"
     ]
    }
   ],
   "source": [
    "print(\"uploading flac file to cloud\")\n",
    "blob = bucket.blob(source_file_name)\n",
    "blob = bucket.blob(\"flac_files/\" + source_file_stem + '.flac')"
   ]
  },
  {
   "cell_type": "code",
   "execution_count": 12,
   "metadata": {},
   "outputs": [
    {
     "name": "stdout",
     "output_type": "stream",
     "text": [
      "run time: 19.367159128189087\n"
     ]
    }
   ],
   "source": [
    "# upload\n",
    "blob.upload_from_filename('flac_files/' + source_file_stem + '.flac')\n",
    "print(\"run time:\", time.time() - start_time)\n",
    "start_time = time.time()\n",
    "# extract transcript"
   ]
  },
  {
   "cell_type": "code",
   "execution_count": 13,
   "metadata": {},
   "outputs": [
    {
     "name": "stdout",
     "output_type": "stream",
     "text": [
      "extracting transcript\n",
      "run time: 39.78413510322571\n"
     ]
    }
   ],
   "source": [
    "print(\"extracting transcript\")\n",
    "client = speech.SpeechClient()\n",
    "\n",
    "gcs_uri = \"gs://\" + bucket_name  + \"/flac_files/\" + source_file_stem + \".flac\"\n",
    "#https://cloud.google.com/speech-to-text/docs/encoding    \n",
    "#You are not required to specify the encoding and sample rate for WAV or FLAC files. \n",
    "#If omitted, Speech-to-Text automatically determines the encoding and sample rate for \n",
    "#WAV or FLAC files based on the file header. \n",
    "#If you specify an encoding or sample rate value that does not match the value in the \n",
    "#file header, then Speech-to-Text returns an error.    \n",
    "# model='video' is not required, costs more, but might lead to better transcription\n",
    "\n",
    "audio = speech.RecognitionAudio(uri=gcs_uri)\n",
    "\n",
    "config = speech.RecognitionConfig(\n",
    "    #encoding=speech.RecognitionConfig.AudioEncoding.FLAC,\n",
    "    #sample_rate_hertz=16000,\n",
    "    audio_channel_count=2,\n",
    "    language_code=\"en-US\",\n",
    "    use_enhanced=True,\n",
    "    model='video',\n",
    "    enable_word_time_offsets=True\n",
    ")\n",
    "\n",
    "operation = client.long_running_recognize(config=config, audio=audio)\n",
    "response = operation.result()\n",
    "print(\"run time:\", time.time() - start_time)\n",
    "start_time = time.time()"
   ]
  },
  {
   "cell_type": "code",
   "execution_count": null,
   "metadata": {},
   "outputs": [],
   "source": [
    "result_dict = MessageToDict(response.__class__.pb(response))"
   ]
  },
  {
   "cell_type": "code",
   "execution_count": 39,
   "metadata": {},
   "outputs": [
    {
     "data": {
      "text/plain": [
       "{'results': [{'alternatives': [{'transcript': 'gentlemen gentlemen tobacco industry has a very serious multi billion dollar problem we need more cigarette smokers pure and simple everyday 2,000 Americans stopped smoking another 1100 also quit actually technically they die that means that this business needs 3000 fresh new volunteers every day so forget about cancer heart disease emphysema',\n",
       "     'confidence': 0.8005896,\n",
       "     'words': [{'startTime': '9.800s',\n",
       "       'endTime': '10.300s',\n",
       "       'word': 'gentlemen'},\n",
       "      {'startTime': '10.300s', 'endTime': '10.900s', 'word': 'gentlemen'},\n",
       "      {'startTime': '11.900s', 'endTime': '12.200s', 'word': 'tobacco'},\n",
       "      {'startTime': '12.200s', 'endTime': '12.600s', 'word': 'industry'},\n",
       "      {'startTime': '12.600s', 'endTime': '12.700s', 'word': 'has'},\n",
       "      {'startTime': '12.700s', 'endTime': '12.800s', 'word': 'a'},\n",
       "      {'startTime': '12.800s', 'endTime': '13s', 'word': 'very'},\n",
       "      {'startTime': '13s', 'endTime': '13.500s', 'word': 'serious'},\n",
       "      {'startTime': '13.500s', 'endTime': '13.800s', 'word': 'multi'},\n",
       "      {'startTime': '13.800s', 'endTime': '14s', 'word': 'billion'},\n",
       "      {'startTime': '14s', 'endTime': '14.300s', 'word': 'dollar'},\n",
       "      {'startTime': '14.300s', 'endTime': '14.800s', 'word': 'problem'},\n",
       "      {'startTime': '15.400s', 'endTime': '15.400s', 'word': 'we'},\n",
       "      {'startTime': '15.400s', 'endTime': '15.600s', 'word': 'need'},\n",
       "      {'startTime': '15.600s', 'endTime': '15.800s', 'word': 'more'},\n",
       "      {'startTime': '15.800s', 'endTime': '16.200s', 'word': 'cigarette'},\n",
       "      {'startTime': '16.200s', 'endTime': '16.800s', 'word': 'smokers'},\n",
       "      {'startTime': '16.800s', 'endTime': '17s', 'word': 'pure'},\n",
       "      {'startTime': '17s', 'endTime': '17.200s', 'word': 'and'},\n",
       "      {'startTime': '17.200s', 'endTime': '17.600s', 'word': 'simple'},\n",
       "      {'startTime': '18.200s', 'endTime': '18.900s', 'word': 'everyday'},\n",
       "      {'startTime': '19.400s', 'endTime': '19.900s', 'word': '2,000'},\n",
       "      {'startTime': '19.900s', 'endTime': '20.400s', 'word': 'Americans'},\n",
       "      {'startTime': '20.400s', 'endTime': '20.700s', 'word': 'stopped'},\n",
       "      {'startTime': '20.700s', 'endTime': '21.200s', 'word': 'smoking'},\n",
       "      {'startTime': '21.900s', 'endTime': '22.300s', 'word': 'another'},\n",
       "      {'startTime': '22.300s', 'endTime': '22.900s', 'word': '1100'},\n",
       "      {'startTime': '22.900s', 'endTime': '23.200s', 'word': 'also'},\n",
       "      {'startTime': '23.200s', 'endTime': '23.700s', 'word': 'quit'},\n",
       "      {'startTime': '24.300s', 'endTime': '25s', 'word': 'actually'},\n",
       "      {'startTime': '25s', 'endTime': '25.600s', 'word': 'technically'},\n",
       "      {'startTime': '26.100s', 'endTime': '26.300s', 'word': 'they'},\n",
       "      {'startTime': '26.300s', 'endTime': '26.900s', 'word': 'die'},\n",
       "      {'startTime': '27.500s', 'endTime': '27.700s', 'word': 'that'},\n",
       "      {'startTime': '27.700s', 'endTime': '27.900s', 'word': 'means'},\n",
       "      {'startTime': '27.900s', 'endTime': '28.100s', 'word': 'that'},\n",
       "      {'startTime': '28.100s', 'endTime': '28.300s', 'word': 'this'},\n",
       "      {'startTime': '28.300s', 'endTime': '28.600s', 'word': 'business'},\n",
       "      {'startTime': '28.600s', 'endTime': '28.900s', 'word': 'needs'},\n",
       "      {'startTime': '28.900s', 'endTime': '29.400s', 'word': '3000'},\n",
       "      {'startTime': '29.400s', 'endTime': '29.700s', 'word': 'fresh'},\n",
       "      {'startTime': '29.700s', 'endTime': '29.900s', 'word': 'new'},\n",
       "      {'startTime': '29.900s', 'endTime': '30.400s', 'word': 'volunteers'},\n",
       "      {'startTime': '30.400s', 'endTime': '30.600s', 'word': 'every'},\n",
       "      {'startTime': '30.600s', 'endTime': '30.900s', 'word': 'day'},\n",
       "      {'startTime': '31.700s', 'endTime': '32s', 'word': 'so'},\n",
       "      {'startTime': '32.500s', 'endTime': '32.700s', 'word': 'forget'},\n",
       "      {'startTime': '32.700s', 'endTime': '33.100s', 'word': 'about'},\n",
       "      {'startTime': '33.900s', 'endTime': '34.400s', 'word': 'cancer'},\n",
       "      {'startTime': '34.400s', 'endTime': '34.700s', 'word': 'heart'},\n",
       "      {'startTime': '34.700s', 'endTime': '35.500s', 'word': 'disease'},\n",
       "      {'startTime': '35.500s', 'endTime': '36.500s', 'word': 'emphysema'}]}],\n",
       "   'resultEndTime': '36.670s',\n",
       "   'languageCode': 'en-us'},\n",
       "  {'alternatives': [{'transcript': \" Strokes them gentleman we're not in this business for help\",\n",
       "     'confidence': 0.72968185,\n",
       "     'words': [{'startTime': '36.700s',\n",
       "       'endTime': '37.200s',\n",
       "       'word': 'Strokes'},\n",
       "      {'startTime': '37.200s', 'endTime': '37.600s', 'word': 'them'},\n",
       "      {'startTime': '38.700s', 'endTime': '39.200s', 'word': 'gentleman'},\n",
       "      {'startTime': '40.500s', 'endTime': '40.600s', 'word': \"we're\"},\n",
       "      {'startTime': '40.600s', 'endTime': '40.800s', 'word': 'not'},\n",
       "      {'startTime': '40.800s', 'endTime': '40.900s', 'word': 'in'},\n",
       "      {'startTime': '40.900s', 'endTime': '41.100s', 'word': 'this'},\n",
       "      {'startTime': '41.100s', 'endTime': '41.400s', 'word': 'business'},\n",
       "      {'startTime': '41.400s', 'endTime': '41.600s', 'word': 'for'},\n",
       "      {'startTime': '41.600s', 'endTime': '42.200s', 'word': 'help'}]}],\n",
       "   'resultEndTime': '44.330s',\n",
       "   'languageCode': 'en-us'},\n",
       "  {'alternatives': [{}], 'resultEndTime': '53.120s', 'languageCode': 'en-us'},\n",
       "  {'alternatives': [{}], 'resultEndTime': '73.010s', 'languageCode': 'en-us'},\n",
       "  {'alternatives': [{}], 'resultEndTime': '83.930s', 'languageCode': 'en-us'},\n",
       "  {'alternatives': [{}], 'resultEndTime': '105.450s', 'languageCode': 'en-us'},\n",
       "  {'alternatives': [{}], 'resultEndTime': '115.990s', 'languageCode': 'en-us'},\n",
       "  {'alternatives': [{}], 'resultEndTime': '137.590s', 'languageCode': 'en-us'},\n",
       "  {'alternatives': [{}], 'resultEndTime': '142.360s', 'languageCode': 'en-us'},\n",
       "  {'alternatives': [{}], 'resultEndTime': '146.390s', 'languageCode': 'en-us'},\n",
       "  {'alternatives': [{}],\n",
       "   'resultEndTime': '148.360s',\n",
       "   'languageCode': 'en-us'}],\n",
       " 'totalBilledTime': '149s',\n",
       " 'requestId': '3301949355826719208'}"
      ]
     },
     "execution_count": 39,
     "metadata": {},
     "output_type": "execute_result"
    }
   ],
   "source": [
    "result_dict"
   ]
  },
  {
   "cell_type": "code",
   "execution_count": 15,
   "metadata": {},
   "outputs": [
    {
     "name": "stdout",
     "output_type": "stream",
     "text": [
      "gentlemen gentlemen tobacco industry has a very serious multi billion dollar problem we need more cigarette smokers pure and simple everyday 2,000 Americans stopped smoking another 1100 also quit actually technically they die that means that this business needs 3000 fresh new volunteers every day so forget about cancer heart disease emphysema\n"
     ]
    }
   ],
   "source": [
    "print(result_dict['results'][0]['alternatives'][0]['transcript'])"
   ]
  },
  {
   "cell_type": "code",
   "execution_count": 16,
   "metadata": {},
   "outputs": [],
   "source": [
    "full_text = \"\"\n",
    "for r in result_dict['results']:\n",
    "    if 'transcript' in r['alternatives'][0]:\n",
    "        full_text += (r['alternatives'][0]['transcript'])"
   ]
  },
  {
   "cell_type": "code",
   "execution_count": 17,
   "metadata": {},
   "outputs": [
    {
     "name": "stdout",
     "output_type": "stream",
     "text": [
      "gentlemen gentlemen tobacco industry has a very serious multi billion dollar problem we need more cigarette smokers pure and simple everyday 2,000 Americans stopped smoking another 1100 also quit actually technically they die that means that this business needs 3000 fresh new volunteers every day so forget about cancer heart disease emphysema Strokes them gentleman we're not in this business for help\n"
     ]
    }
   ],
   "source": [
    "print(full_text)"
   ]
  },
  {
   "cell_type": "code",
   "execution_count": 38,
   "metadata": {},
   "outputs": [
    {
     "data": {
      "text/html": [
       "<div>\n",
       "<style scoped>\n",
       "    .dataframe tbody tr th:only-of-type {\n",
       "        vertical-align: middle;\n",
       "    }\n",
       "\n",
       "    .dataframe tbody tr th {\n",
       "        vertical-align: top;\n",
       "    }\n",
       "\n",
       "    .dataframe thead th {\n",
       "        text-align: right;\n",
       "    }\n",
       "</style>\n",
       "<table border=\"1\" class=\"dataframe\">\n",
       "  <thead>\n",
       "    <tr style=\"text-align: right;\">\n",
       "      <th></th>\n",
       "      <th>text</th>\n",
       "      <th>confidence</th>\n",
       "    </tr>\n",
       "  </thead>\n",
       "  <tbody>\n",
       "    <tr>\n",
       "      <th>0</th>\n",
       "      <td>gentlemen gentlemen tobacco industry has a very serious multi billion dollar problem we need more cigarette smokers pure and simple everyday 2,000 Americans stopped smoking another 1100 also quit actually technically they die that means that this business needs 3000 fresh new volunteers every day so forget about cancer heart disease emphysema</td>\n",
       "      <td>0.800590</td>\n",
       "    </tr>\n",
       "    <tr>\n",
       "      <th>1</th>\n",
       "      <td>Strokes them gentleman we're not in this business for help</td>\n",
       "      <td>0.729682</td>\n",
       "    </tr>\n",
       "  </tbody>\n",
       "</table>\n",
       "</div>"
      ],
      "text/plain": [
       "                                                                                                                                                                                                                                                                                                                                                       text  \\\n",
       "0  gentlemen gentlemen tobacco industry has a very serious multi billion dollar problem we need more cigarette smokers pure and simple everyday 2,000 Americans stopped smoking another 1100 also quit actually technically they die that means that this business needs 3000 fresh new volunteers every day so forget about cancer heart disease emphysema   \n",
       "1                                                                                                                                                                                                                                                                                                Strokes them gentleman we're not in this business for help   \n",
       "\n",
       "   confidence  \n",
       "0    0.800590  \n",
       "1    0.729682  "
      ]
     },
     "execution_count": 38,
     "metadata": {},
     "output_type": "execute_result"
    }
   ],
   "source": [
    "transcript_data = []\n",
    "for r in result_dict['results']:\n",
    "    if 'transcript' in r['alternatives'][0].keys():\n",
    "        #print(r['alternatives'][0]['transcript'], r['alternatives'][0]['confidence'])\n",
    "        transcript_data.append((r['alternatives'][0]['transcript'], r['alternatives'][0]['confidence']))\n",
    "df = pd.DataFrame(transcript_data, columns=['text', 'confidence'])\n",
    "df"
   ]
  },
  {
   "cell_type": "code",
   "execution_count": 18,
   "metadata": {},
   "outputs": [],
   "source": [
    "with open('json_output/' + source_file_stem + '.json', 'w') as fp:\n",
    "        json.dump(result_dict, fp)"
   ]
  },
  {
   "cell_type": "code",
   "execution_count": 19,
   "metadata": {},
   "outputs": [],
   "source": [
    "#bucket.blob(\"video_files/\" + source_file_name).delete()\n",
    "bucket.blob(\"flac_files/\" + source_file_stem + '.flac').delete()"
   ]
  },
  {
   "cell_type": "code",
   "execution_count": 20,
   "metadata": {},
   "outputs": [],
   "source": [
    "os.remove(\"video_files/\" + source_file_name)\n",
    "os.remove(\"flac_files/\" + source_file_stem + '.flac')"
   ]
  },
  {
   "cell_type": "code",
   "execution_count": 23,
   "metadata": {},
   "outputs": [],
   "source": [
    "type_ = language_v1.Document.Type.PLAIN_TEXT\n",
    "\n",
    "language = \"en\"\n",
    "document = {\"content\": full_text, \"type_\": type_, \"language\": language}\n",
    "\n",
    "client = language_v1.LanguageServiceClient()\n",
    "\n",
    "sentiment_response = client.analyze_sentiment(request = {'document': document})"
   ]
  },
  {
   "cell_type": "code",
   "execution_count": 24,
   "metadata": {},
   "outputs": [
    {
     "name": "stdout",
     "output_type": "stream",
     "text": [
      "-0.800000011920929\n",
      "0.800000011920929\n"
     ]
    }
   ],
   "source": [
    "print(sentiment_response.document_sentiment.score)\n",
    "print(sentiment_response.document_sentiment.magnitude)"
   ]
  },
  {
   "cell_type": "code",
   "execution_count": null,
   "metadata": {},
   "outputs": [],
   "source": []
  }
 ],
 "metadata": {
  "kernelspec": {
   "display_name": "Python 3 (ipykernel)",
   "language": "python",
   "name": "python3"
  },
  "language_info": {
   "codemirror_mode": {
    "name": "ipython",
    "version": 3
   },
   "file_extension": ".py",
   "mimetype": "text/x-python",
   "name": "python",
   "nbconvert_exporter": "python",
   "pygments_lexer": "ipython3",
   "version": "3.10.9"
  }
 },
 "nbformat": 4,
 "nbformat_minor": 2
}
